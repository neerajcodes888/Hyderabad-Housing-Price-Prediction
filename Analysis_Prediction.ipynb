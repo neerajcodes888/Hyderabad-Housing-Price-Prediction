{
 "cells": [
  {
   "cell_type": "code",
   "execution_count": 1,
   "metadata": {},
   "outputs": [],
   "source": [
    "import pandas as pd"
   ]
  },
  {
   "cell_type": "code",
   "execution_count": 2,
   "metadata": {},
   "outputs": [],
   "source": [
    "data = pd.read_csv(\"dataset.csv\")"
   ]
  },
  {
   "cell_type": "code",
   "execution_count": 3,
   "metadata": {},
   "outputs": [
    {
     "data": {
      "text/html": [
       "<div>\n",
       "<style scoped>\n",
       "    .dataframe tbody tr th:only-of-type {\n",
       "        vertical-align: middle;\n",
       "    }\n",
       "\n",
       "    .dataframe tbody tr th {\n",
       "        vertical-align: top;\n",
       "    }\n",
       "\n",
       "    .dataframe thead th {\n",
       "        text-align: right;\n",
       "    }\n",
       "</style>\n",
       "<table border=\"1\" class=\"dataframe\">\n",
       "  <thead>\n",
       "    <tr style=\"text-align: right;\">\n",
       "      <th></th>\n",
       "      <th>active</th>\n",
       "      <th>amenities</th>\n",
       "      <th>balconies</th>\n",
       "      <th>bathroom</th>\n",
       "      <th>combineDescription</th>\n",
       "      <th>completeStreetName</th>\n",
       "      <th>deposit</th>\n",
       "      <th>facing</th>\n",
       "      <th>facingDesc</th>\n",
       "      <th>floor</th>\n",
       "      <th>...</th>\n",
       "      <th>property_size</th>\n",
       "      <th>reactivationSource</th>\n",
       "      <th>rent_amount</th>\n",
       "      <th>sharedAccomodation</th>\n",
       "      <th>shortUrl</th>\n",
       "      <th>swimmingPool</th>\n",
       "      <th>totalFloor</th>\n",
       "      <th>type_bhk</th>\n",
       "      <th>waterSupply</th>\n",
       "      <th>weight</th>\n",
       "    </tr>\n",
       "  </thead>\n",
       "  <tbody>\n",
       "    <tr>\n",
       "      <th>0</th>\n",
       "      <td>True</td>\n",
       "      <td>{\"LIFT\":true,\"GYM\":false,\"INTERNET\":false,\"AC\"...</td>\n",
       "      <td>3</td>\n",
       "      <td>3</td>\n",
       "      <td>NaN</td>\n",
       "      <td>Shreya carnation, Block I, NCB Enclave, Gachib...</td>\n",
       "      <td>90000</td>\n",
       "      <td>W</td>\n",
       "      <td>West</td>\n",
       "      <td>3</td>\n",
       "      <td>...</td>\n",
       "      <td>2200</td>\n",
       "      <td>USER_DASHBOARD</td>\n",
       "      <td>28000</td>\n",
       "      <td>False</td>\n",
       "      <td>http://nobr.kr/sv/9Kvqj</td>\n",
       "      <td>False</td>\n",
       "      <td>5</td>\n",
       "      <td>BHK3</td>\n",
       "      <td>CORP_BORE</td>\n",
       "      <td>NaN</td>\n",
       "    </tr>\n",
       "    <tr>\n",
       "      <th>1</th>\n",
       "      <td>True</td>\n",
       "      <td>{\"LIFT\":false,\"GYM\":false,\"INTERNET\":false,\"AC...</td>\n",
       "      <td>1</td>\n",
       "      <td>2</td>\n",
       "      <td>NaN</td>\n",
       "      <td>Inner Ring Rd,  near RTO Bandlaguda South Zone</td>\n",
       "      <td>45000</td>\n",
       "      <td>E</td>\n",
       "      <td>East</td>\n",
       "      <td>2</td>\n",
       "      <td>...</td>\n",
       "      <td>1200</td>\n",
       "      <td>USER_DASHBOARD</td>\n",
       "      <td>15000</td>\n",
       "      <td>False</td>\n",
       "      <td>http://nobr.kr/sv/j2pD6</td>\n",
       "      <td>False</td>\n",
       "      <td>2</td>\n",
       "      <td>BHK3</td>\n",
       "      <td>BOREWELL</td>\n",
       "      <td>NaN</td>\n",
       "    </tr>\n",
       "    <tr>\n",
       "      <th>2</th>\n",
       "      <td>True</td>\n",
       "      <td>{\"LIFT\":true,\"GYM\":true,\"INTERNET\":false,\"AC\":...</td>\n",
       "      <td>3</td>\n",
       "      <td>3</td>\n",
       "      <td>NaN</td>\n",
       "      <td>Rd Number 2, Shirdi Sai Nagar, Manikonda, Hyde...</td>\n",
       "      <td>80000</td>\n",
       "      <td>E</td>\n",
       "      <td>East</td>\n",
       "      <td>0</td>\n",
       "      <td>...</td>\n",
       "      <td>1800</td>\n",
       "      <td>MISSED_CALL</td>\n",
       "      <td>16000</td>\n",
       "      <td>False</td>\n",
       "      <td>http://nobr.kr/sv/TXJmj</td>\n",
       "      <td>False</td>\n",
       "      <td>3</td>\n",
       "      <td>BHK3</td>\n",
       "      <td>CORP_BORE</td>\n",
       "      <td>NaN</td>\n",
       "    </tr>\n",
       "    <tr>\n",
       "      <th>3</th>\n",
       "      <td>True</td>\n",
       "      <td>{\"LIFT\":false,\"GYM\":false,\"INTERNET\":false,\"AC...</td>\n",
       "      <td>1</td>\n",
       "      <td>2</td>\n",
       "      <td>NaN</td>\n",
       "      <td>Plot No. 44, Road No. 1/A, kakatiya colony, LB...</td>\n",
       "      <td>18000</td>\n",
       "      <td>W</td>\n",
       "      <td>West</td>\n",
       "      <td>2</td>\n",
       "      <td>...</td>\n",
       "      <td>750</td>\n",
       "      <td>MISSED_CALL</td>\n",
       "      <td>9000</td>\n",
       "      <td>False</td>\n",
       "      <td>http://nobr.kr/sv/FnCsf</td>\n",
       "      <td>False</td>\n",
       "      <td>2</td>\n",
       "      <td>BHK2</td>\n",
       "      <td>CORP_BORE</td>\n",
       "      <td>NaN</td>\n",
       "    </tr>\n",
       "    <tr>\n",
       "      <th>4</th>\n",
       "      <td>True</td>\n",
       "      <td>{\"LIFT\":true,\"GYM\":false,\"INTERNET\":false,\"AC\"...</td>\n",
       "      <td>2</td>\n",
       "      <td>2</td>\n",
       "      <td>NaN</td>\n",
       "      <td>Madhapur HUDA Techno Enclave,  Near MaxCure Su...</td>\n",
       "      <td>80000</td>\n",
       "      <td>E</td>\n",
       "      <td>East</td>\n",
       "      <td>2</td>\n",
       "      <td>...</td>\n",
       "      <td>1250</td>\n",
       "      <td>None</td>\n",
       "      <td>32500</td>\n",
       "      <td>False</td>\n",
       "      <td>http://nobr.kr/sv/BQFRb</td>\n",
       "      <td>False</td>\n",
       "      <td>5</td>\n",
       "      <td>BHK2</td>\n",
       "      <td>CORP_BORE</td>\n",
       "      <td>NaN</td>\n",
       "    </tr>\n",
       "  </tbody>\n",
       "</table>\n",
       "<p>5 rows × 36 columns</p>\n",
       "</div>"
      ],
      "text/plain": [
       "   active                                          amenities balconies  \\\n",
       "0    True  {\"LIFT\":true,\"GYM\":false,\"INTERNET\":false,\"AC\"...         3   \n",
       "1    True  {\"LIFT\":false,\"GYM\":false,\"INTERNET\":false,\"AC...         1   \n",
       "2    True  {\"LIFT\":true,\"GYM\":true,\"INTERNET\":false,\"AC\":...         3   \n",
       "3    True  {\"LIFT\":false,\"GYM\":false,\"INTERNET\":false,\"AC...         1   \n",
       "4    True  {\"LIFT\":true,\"GYM\":false,\"INTERNET\":false,\"AC\"...         2   \n",
       "\n",
       "   bathroom  combineDescription  \\\n",
       "0         3                 NaN   \n",
       "1         2                 NaN   \n",
       "2         3                 NaN   \n",
       "3         2                 NaN   \n",
       "4         2                 NaN   \n",
       "\n",
       "                                  completeStreetName  deposit facing  \\\n",
       "0  Shreya carnation, Block I, NCB Enclave, Gachib...    90000      W   \n",
       "1     Inner Ring Rd,  near RTO Bandlaguda South Zone    45000      E   \n",
       "2  Rd Number 2, Shirdi Sai Nagar, Manikonda, Hyde...    80000      E   \n",
       "3  Plot No. 44, Road No. 1/A, kakatiya colony, LB...    18000      W   \n",
       "4  Madhapur HUDA Techno Enclave,  Near MaxCure Su...    80000      E   \n",
       "\n",
       "  facingDesc  floor  ... property_size  reactivationSource rent_amount  \\\n",
       "0       West      3  ...          2200      USER_DASHBOARD       28000   \n",
       "1       East      2  ...          1200      USER_DASHBOARD       15000   \n",
       "2       East      0  ...          1800         MISSED_CALL       16000   \n",
       "3       West      2  ...           750         MISSED_CALL        9000   \n",
       "4       East      2  ...          1250                None       32500   \n",
       "\n",
       "   sharedAccomodation                 shortUrl  swimmingPool totalFloor  \\\n",
       "0               False  http://nobr.kr/sv/9Kvqj         False          5   \n",
       "1               False  http://nobr.kr/sv/j2pD6         False          2   \n",
       "2               False  http://nobr.kr/sv/TXJmj         False          3   \n",
       "3               False  http://nobr.kr/sv/FnCsf         False          2   \n",
       "4               False  http://nobr.kr/sv/BQFRb         False          5   \n",
       "\n",
       "  type_bhk waterSupply weight  \n",
       "0     BHK3   CORP_BORE    NaN  \n",
       "1     BHK3    BOREWELL    NaN  \n",
       "2     BHK3   CORP_BORE    NaN  \n",
       "3     BHK2   CORP_BORE    NaN  \n",
       "4     BHK2   CORP_BORE    NaN  \n",
       "\n",
       "[5 rows x 36 columns]"
      ]
     },
     "execution_count": 3,
     "metadata": {},
     "output_type": "execute_result"
    }
   ],
   "source": [
    "data.head()"
   ]
  },
  {
   "cell_type": "code",
   "execution_count": 4,
   "metadata": {},
   "outputs": [
    {
     "data": {
      "text/plain": [
       "(19110, 36)"
      ]
     },
     "execution_count": 4,
     "metadata": {},
     "output_type": "execute_result"
    }
   ],
   "source": [
    "data.shape"
   ]
  },
  {
   "cell_type": "markdown",
   "metadata": {
    "slideshow": {
     "slide_type": "notes"
    }
   },
   "source": [
    "## Preprocessing"
   ]
  },
  {
   "cell_type": "markdown",
   "metadata": {},
   "source": [
    "##### Extracting information out of amenities column as it is one of the important factors in deciding price values followed by getting rid of unwanted columns"
   ]
  },
  {
   "cell_type": "code",
   "execution_count": 5,
   "metadata": {},
   "outputs": [],
   "source": [
    "amenities_columns = ['LIFT', 'GYM', 'INTERNET', 'AC', 'CLUB', 'INTERCOM', 'POOL', 'CPA',\n",
    "                     'FS', 'SERVANT', 'SECURITY', 'SC', 'GP', 'PARK', 'RWH', 'STP',\n",
    "                     'HK', 'PB', 'VP']"
   ]
  },
  {
   "cell_type": "code",
   "execution_count": 6,
   "metadata": {},
   "outputs": [],
   "source": [
    "for column in amenities_columns:\n",
    "    data[column] = data['amenities'].str.extract(f\"({column}:(True|False))\", expand=True)[1].astype(bool).astype('int64')"
   ]
  },
  {
   "cell_type": "code",
   "execution_count": 7,
   "metadata": {},
   "outputs": [],
   "source": [
    "df = data.drop(['amenities','balconies','active','combineDescription','completeStreetName','facing','id','gym','lift','localityId','location','ownerName','parkingDesc','propertyTitle','reactivationSource','shortUrl','type_bhk','weight'], axis=1)"
   ]
  },
  {
   "cell_type": "code",
   "execution_count": 8,
   "metadata": {},
   "outputs": [],
   "source": [
    "df = df.replace('None', pd.NA).dropna()"
   ]
  },
  {
   "cell_type": "markdown",
   "metadata": {},
   "source": [
    "##### Making sure that the data types of respective columns are suitable for EDA"
   ]
  },
  {
   "cell_type": "code",
   "execution_count": 9,
   "metadata": {},
   "outputs": [],
   "source": [
    "df['maintenanceAmount'] = df['maintenanceAmount'].astype('int64')"
   ]
  },
  {
   "cell_type": "code",
   "execution_count": 10,
   "metadata": {},
   "outputs": [],
   "source": [
    "df['swimmingPool'] = df['swimmingPool'].astype('int64')"
   ]
  },
  {
   "cell_type": "markdown",
   "metadata": {},
   "source": [
    "#### Since total rent is a sum of the maintenance and usual rent amount, they have been collectively taken as one entity"
   ]
  },
  {
   "cell_type": "code",
   "execution_count": 11,
   "metadata": {},
   "outputs": [],
   "source": [
    "df['totalprice'] = df[['maintenanceAmount', 'rent_amount']].apply(lambda x: x[x.notnull()].sum(), axis=1)"
   ]
  },
  {
   "cell_type": "code",
   "execution_count": 12,
   "metadata": {},
   "outputs": [],
   "source": [
    "dff = df.drop(['maintenanceAmount','deposit','isMaintenance','loanAvailable','rent_amount','propertyType','floor','sharedAccomodation','FS','PARK','POOL','SC','CPA','GP','RWH','STP','HK','PB','VP'],axis=1)"
   ]
  },
  {
   "cell_type": "code",
   "execution_count": 13,
   "metadata": {},
   "outputs": [
    {
     "data": {
      "text/html": [
       "<div>\n",
       "<style scoped>\n",
       "    .dataframe tbody tr th:only-of-type {\n",
       "        vertical-align: middle;\n",
       "    }\n",
       "\n",
       "    .dataframe tbody tr th {\n",
       "        vertical-align: top;\n",
       "    }\n",
       "\n",
       "    .dataframe thead th {\n",
       "        text-align: right;\n",
       "    }\n",
       "</style>\n",
       "<table border=\"1\" class=\"dataframe\">\n",
       "  <thead>\n",
       "    <tr style=\"text-align: right;\">\n",
       "      <th></th>\n",
       "      <th>bathroom</th>\n",
       "      <th>facingDesc</th>\n",
       "      <th>furnishingDesc</th>\n",
       "      <th>locality</th>\n",
       "      <th>parking</th>\n",
       "      <th>property_age</th>\n",
       "      <th>property_size</th>\n",
       "      <th>swimmingPool</th>\n",
       "      <th>totalFloor</th>\n",
       "      <th>waterSupply</th>\n",
       "      <th>LIFT</th>\n",
       "      <th>GYM</th>\n",
       "      <th>INTERNET</th>\n",
       "      <th>AC</th>\n",
       "      <th>CLUB</th>\n",
       "      <th>INTERCOM</th>\n",
       "      <th>SERVANT</th>\n",
       "      <th>SECURITY</th>\n",
       "      <th>totalprice</th>\n",
       "    </tr>\n",
       "  </thead>\n",
       "  <tbody>\n",
       "    <tr>\n",
       "      <th>0</th>\n",
       "      <td>3</td>\n",
       "      <td>West</td>\n",
       "      <td>Semi</td>\n",
       "      <td>Gachibowli</td>\n",
       "      <td>BOTH</td>\n",
       "      <td>5</td>\n",
       "      <td>2200</td>\n",
       "      <td>0</td>\n",
       "      <td>5</td>\n",
       "      <td>CORP_BORE</td>\n",
       "      <td>1</td>\n",
       "      <td>1</td>\n",
       "      <td>1</td>\n",
       "      <td>1</td>\n",
       "      <td>1</td>\n",
       "      <td>1</td>\n",
       "      <td>1</td>\n",
       "      <td>1</td>\n",
       "      <td>30000</td>\n",
       "    </tr>\n",
       "    <tr>\n",
       "      <th>2</th>\n",
       "      <td>3</td>\n",
       "      <td>East</td>\n",
       "      <td>Semi</td>\n",
       "      <td>Manikonda</td>\n",
       "      <td>BOTH</td>\n",
       "      <td>0</td>\n",
       "      <td>1800</td>\n",
       "      <td>0</td>\n",
       "      <td>3</td>\n",
       "      <td>CORP_BORE</td>\n",
       "      <td>1</td>\n",
       "      <td>1</td>\n",
       "      <td>1</td>\n",
       "      <td>1</td>\n",
       "      <td>1</td>\n",
       "      <td>1</td>\n",
       "      <td>1</td>\n",
       "      <td>1</td>\n",
       "      <td>17000</td>\n",
       "    </tr>\n",
       "    <tr>\n",
       "      <th>3</th>\n",
       "      <td>2</td>\n",
       "      <td>West</td>\n",
       "      <td>Unfurnished</td>\n",
       "      <td>LB Nagar</td>\n",
       "      <td>BOTH</td>\n",
       "      <td>0</td>\n",
       "      <td>750</td>\n",
       "      <td>0</td>\n",
       "      <td>2</td>\n",
       "      <td>CORP_BORE</td>\n",
       "      <td>1</td>\n",
       "      <td>1</td>\n",
       "      <td>1</td>\n",
       "      <td>1</td>\n",
       "      <td>1</td>\n",
       "      <td>1</td>\n",
       "      <td>1</td>\n",
       "      <td>1</td>\n",
       "      <td>9500</td>\n",
       "    </tr>\n",
       "    <tr>\n",
       "      <th>4</th>\n",
       "      <td>2</td>\n",
       "      <td>East</td>\n",
       "      <td>Semi</td>\n",
       "      <td>HITEC City</td>\n",
       "      <td>BOTH</td>\n",
       "      <td>5</td>\n",
       "      <td>1250</td>\n",
       "      <td>0</td>\n",
       "      <td>5</td>\n",
       "      <td>CORP_BORE</td>\n",
       "      <td>1</td>\n",
       "      <td>1</td>\n",
       "      <td>1</td>\n",
       "      <td>1</td>\n",
       "      <td>1</td>\n",
       "      <td>1</td>\n",
       "      <td>1</td>\n",
       "      <td>1</td>\n",
       "      <td>34500</td>\n",
       "    </tr>\n",
       "    <tr>\n",
       "      <th>5</th>\n",
       "      <td>3</td>\n",
       "      <td>North</td>\n",
       "      <td>Semi</td>\n",
       "      <td>Kondapur</td>\n",
       "      <td>BOTH</td>\n",
       "      <td>1</td>\n",
       "      <td>1517</td>\n",
       "      <td>1</td>\n",
       "      <td>6</td>\n",
       "      <td>CORP_BORE</td>\n",
       "      <td>1</td>\n",
       "      <td>1</td>\n",
       "      <td>1</td>\n",
       "      <td>1</td>\n",
       "      <td>1</td>\n",
       "      <td>1</td>\n",
       "      <td>1</td>\n",
       "      <td>1</td>\n",
       "      <td>35700</td>\n",
       "    </tr>\n",
       "  </tbody>\n",
       "</table>\n",
       "</div>"
      ],
      "text/plain": [
       "   bathroom facingDesc furnishingDesc    locality parking  property_age  \\\n",
       "0         3       West           Semi  Gachibowli    BOTH             5   \n",
       "2         3       East           Semi   Manikonda    BOTH             0   \n",
       "3         2       West    Unfurnished    LB Nagar    BOTH             0   \n",
       "4         2       East           Semi  HITEC City    BOTH             5   \n",
       "5         3      North           Semi    Kondapur    BOTH             1   \n",
       "\n",
       "   property_size  swimmingPool  totalFloor waterSupply  LIFT  GYM  INTERNET  \\\n",
       "0           2200             0           5   CORP_BORE     1    1         1   \n",
       "2           1800             0           3   CORP_BORE     1    1         1   \n",
       "3            750             0           2   CORP_BORE     1    1         1   \n",
       "4           1250             0           5   CORP_BORE     1    1         1   \n",
       "5           1517             1           6   CORP_BORE     1    1         1   \n",
       "\n",
       "   AC  CLUB  INTERCOM  SERVANT  SECURITY  totalprice  \n",
       "0   1     1         1        1         1       30000  \n",
       "2   1     1         1        1         1       17000  \n",
       "3   1     1         1        1         1        9500  \n",
       "4   1     1         1        1         1       34500  \n",
       "5   1     1         1        1         1       35700  "
      ]
     },
     "execution_count": 13,
     "metadata": {},
     "output_type": "execute_result"
    }
   ],
   "source": [
    "dff.head()"
   ]
  },
  {
   "cell_type": "markdown",
   "metadata": {},
   "source": [
    "#### Now, it's looking better"
   ]
  },
  {
   "cell_type": "code",
   "execution_count": 14,
   "metadata": {},
   "outputs": [
    {
     "data": {
      "text/plain": [
       "(5240, 19)"
      ]
     },
     "execution_count": 14,
     "metadata": {},
     "output_type": "execute_result"
    }
   ],
   "source": [
    "dff.shape"
   ]
  },
  {
   "cell_type": "markdown",
   "metadata": {},
   "source": [
    "### Some data cleaning"
   ]
  },
  {
   "cell_type": "markdown",
   "metadata": {},
   "source": [
    "#### Cleaning the locality column of delimiters"
   ]
  },
  {
   "cell_type": "code",
   "execution_count": 15,
   "metadata": {},
   "outputs": [],
   "source": [
    "data['locality'] = data['locality'].str.replace(',', '')"
   ]
  },
  {
   "cell_type": "code",
   "execution_count": 16,
   "metadata": {},
   "outputs": [],
   "source": [
    "locality_counts = dff['locality'].value_counts()"
   ]
  },
  {
   "cell_type": "code",
   "execution_count": 17,
   "metadata": {},
   "outputs": [],
   "source": [
    "df3 = dff[dff['locality'].isin(locality_counts[locality_counts > 10].index)]"
   ]
  },
  {
   "cell_type": "markdown",
   "metadata": {},
   "source": [
    "#### Renaming the columns for more clarity"
   ]
  },
  {
   "cell_type": "code",
   "execution_count": 18,
   "metadata": {},
   "outputs": [],
   "source": [
    "df4 = df3.rename(columns = {'furnishingDesc' : 'furnishing', 'LIFT' : 'lift', 'GYM' : 'gym','INTERNET' : 'internet', 'CLUB' : 'club', 'SERVANT' : 'servant', 'SECURITY' : 'security'})"
   ]
  },
  {
   "cell_type": "code",
   "execution_count": null,
   "metadata": {},
   "outputs": [],
   "source": []
  }
 ],
 "metadata": {
  "kernelspec": {
   "display_name": "Python 3",
   "language": "python",
   "name": "python3"
  },
  "language_info": {
   "codemirror_mode": {
    "name": "ipython",
    "version": 3
   },
   "file_extension": ".py",
   "mimetype": "text/x-python",
   "name": "python",
   "nbconvert_exporter": "python",
   "pygments_lexer": "ipython3",
   "version": "3.11.4"
  }
 },
 "nbformat": 4,
 "nbformat_minor": 2
}
